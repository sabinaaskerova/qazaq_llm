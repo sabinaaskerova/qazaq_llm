{
 "cells": [
  {
   "cell_type": "code",
   "execution_count": 1,
   "metadata": {},
   "outputs": [],
   "source": [
    "from datasets import load_dataset\n",
    "import torch\n",
    "from transformers import AutoTokenizer\n",
    "import re"
   ]
  },
  {
   "cell_type": "code",
   "execution_count": 2,
   "metadata": {},
   "outputs": [
    {
     "data": {
      "application/vnd.jupyter.widget-view+json": {
       "model_id": "5c2b708615f647fe81abf6006abc66db",
       "version_major": 2,
       "version_minor": 0
      },
      "text/plain": [
       "Downloading readme:   0%|          | 0.00/56.0 [00:00<?, ?B/s]"
      ]
     },
     "metadata": {},
     "output_type": "display_data"
    },
    {
     "name": "stdout",
     "output_type": "stream",
     "text": [
      "Downloading and preparing dataset csv/Nothingger--Kazakh-Literature-Collection to /home/bina/.cache/huggingface/datasets/Nothingger___csv/Nothingger--Kazakh-Literature-Collection-adf1430ae24fa22f/0.0.0/6954658bab30a358235fa864b05cf819af0e179325c740e4bc853bcc7ec513e1...\n"
     ]
    },
    {
     "data": {
      "application/vnd.jupyter.widget-view+json": {
       "model_id": "bac804a2458a4173a3570082de669d69",
       "version_major": 2,
       "version_minor": 0
      },
      "text/plain": [
       "Downloading data files:   0%|          | 0/1 [00:00<?, ?it/s]"
      ]
     },
     "metadata": {},
     "output_type": "display_data"
    },
    {
     "data": {
      "application/vnd.jupyter.widget-view+json": {
       "model_id": "affd7f3826f34733aa092330fd169470",
       "version_major": 2,
       "version_minor": 0
      },
      "text/plain": [
       "Downloading data:   0%|          | 0.00/45.4M [00:00<?, ?B/s]"
      ]
     },
     "metadata": {},
     "output_type": "display_data"
    },
    {
     "data": {
      "application/vnd.jupyter.widget-view+json": {
       "model_id": "e6e806d01e6443649209af2a2cce3402",
       "version_major": 2,
       "version_minor": 0
      },
      "text/plain": [
       "Extracting data files:   0%|          | 0/1 [00:00<?, ?it/s]"
      ]
     },
     "metadata": {},
     "output_type": "display_data"
    },
    {
     "data": {
      "application/vnd.jupyter.widget-view+json": {
       "model_id": "0b8a555e60684f06b8aa987f0fd81fbf",
       "version_major": 2,
       "version_minor": 0
      },
      "text/plain": [
       "Generating train split: 0 examples [00:00, ? examples/s]"
      ]
     },
     "metadata": {},
     "output_type": "display_data"
    },
    {
     "name": "stdout",
     "output_type": "stream",
     "text": [
      "Dataset csv downloaded and prepared to /home/bina/.cache/huggingface/datasets/Nothingger___csv/Nothingger--Kazakh-Literature-Collection-adf1430ae24fa22f/0.0.0/6954658bab30a358235fa864b05cf819af0e179325c740e4bc853bcc7ec513e1. Subsequent calls will reuse this data.\n"
     ]
    },
    {
     "data": {
      "application/vnd.jupyter.widget-view+json": {
       "model_id": "9874dafc388f412390f5e6891fc84561",
       "version_major": 2,
       "version_minor": 0
      },
      "text/plain": [
       "  0%|          | 0/1 [00:00<?, ?it/s]"
      ]
     },
     "metadata": {},
     "output_type": "display_data"
    },
    {
     "data": {
      "text/plain": [
       "DatasetDict({\n",
       "    train: Dataset({\n",
       "        features: ['name', 'text'],\n",
       "        num_rows: 52\n",
       "    })\n",
       "})"
      ]
     },
     "execution_count": 2,
     "metadata": {},
     "output_type": "execute_result"
    }
   ],
   "source": [
    "dataset = load_dataset('Nothingger/Kazakh-Literature-Collection')\n",
    "\n",
    "dataset"
   ]
  },
  {
   "cell_type": "code",
   "execution_count": 13,
   "metadata": {},
   "outputs": [],
   "source": [
    "\n",
    "data = dataset['train']['text']\n",
    "\n",
    "unique_chars = \"!()*,-.012346789:;?«»ІАБВГДЕЖЗИКЛМНОПРСТУФХЧШЫЭЯабвгдежзийклмнопрстуфхцчшщъыьэюяіҒғҚқҢңҮүҰұһӘәӨө–—•−─\"\n",
    "\n",
    "pattern = re.compile(f\"[{re.escape(unique_chars)}\\\\s]+\")\n",
    "\n",
    "cleaned_texts = []\n",
    "\n",
    "for text in data:\n",
    "    text = text.replace('\\n', ' ')\n",
    "    text = text.replace('\\xa0', ' ')\n",
    "    matches = pattern.findall(text)\n",
    "    cleaned_text = ''.join(matches)\n",
    "    cleaned_texts.append(cleaned_text)\n",
    "\n",
    "cleaned_data = ''.join(cleaned_texts)"
   ]
  },
  {
   "cell_type": "code",
   "execution_count": 15,
   "metadata": {},
   "outputs": [
    {
     "data": {
      "text/plain": [
       "' БЕРДІБЕК СОҚПАҚБАЕВ  (1924–1991)  1 қазанда Алматы облысының Нарынқол ауылында туған. Абай атындағы Қазақ педагогикалық институтын, кейіннен Мәскеуде Жоғары әдеби курсты бітірген. Біраз жыл ауыл мектебінде бала оқытқан. «Қазақ әдебиеті» газетінде, «Балдырған» журналында, Ш.Айманов атындағы «Қазақфильм» киностудиясында істеген. Қазақстан Жазушылар одағында балалар әдебиеті жөніндегі әдеби кеңесші болған. Шығармашылық жолын өлеңмен бастап, 190 жылы «Бұлақ» атты жыр жинағын шығарған. Кейін балалар мен жасөспірімдерге арналған 20-дан астам әңгіме, повесть, роман кітаптарын ұсынды. «Менің атым Қожа», «Балалық шаққа саяхат», «Бозтөбеде бір қыз бар», «Өлгендер қайтып келмейді» және «Қайдасың, Гауһар» секілді туындылары КСРО халықтарының және шетелдердің көптеген тілдеріне аударылып, сахналық, экрандық нұсқаға айналған. 1967 жылы Балалар мен жасөспірімдерге арналған фильмдердің Канн қаласында (Франция) өткен халықаралық фестивалінде «Менің атым Қожа» фильмі (Б.Соқпақбаевтың сценарийі) арнаулы'"
      ]
     },
     "execution_count": 15,
     "metadata": {},
     "output_type": "execute_result"
    }
   ],
   "source": [
    "cleaned_data[:1000]"
   ]
  },
  {
   "cell_type": "code",
   "execution_count": 16,
   "metadata": {},
   "outputs": [
    {
     "name": "stdout",
     "output_type": "stream",
     "text": [
      "\t !()*,-.012346789:;?«»ІАБВГДЕЖЗИКЛМНОПРСТУФХЧШЫЭЯабвгдежзийклмнопрстуфхцчшщъыьэюяіҒғҚқҢңҮүҰұһӘәӨө –—•−─\n",
      "104\n"
     ]
    }
   ],
   "source": [
    "chars = sorted(list(set(cleaned_data)))\n",
    "vocab_size = len(chars)\n",
    "print(''.join(chars))\n",
    "print(vocab_size)\n"
   ]
  },
  {
   "cell_type": "code",
   "execution_count": 17,
   "metadata": {},
   "outputs": [
    {
     "name": "stdout",
     "output_type": "stream",
     "text": [
      "Number of tokens: 6423739\n"
     ]
    }
   ],
   "source": [
    "\n",
    "tokenizer = AutoTokenizer.from_pretrained(\"dappyx/QazDistilbertFast-tokenizer\")\n",
    "\n",
    "# Tokenize the text\n",
    "tokens = tokenizer.tokenize(cleaned_data)\n",
    "token_ids = tokenizer.convert_tokens_to_ids(tokens)\n",
    "\n",
    "print(f\"Number of tokens: {len(tokens)}\")\n",
    "\n",
    "encoded_data = torch.tensor(tokenizer.encode(cleaned_data), dtype=torch.long)\n"
   ]
  },
  {
   "cell_type": "code",
   "execution_count": 18,
   "metadata": {},
   "outputs": [
    {
     "data": {
      "text/plain": [
       "(['берді',\n",
       "  '##бек',\n",
       "  'соқ',\n",
       "  '##пақ',\n",
       "  '##баев',\n",
       "  '(',\n",
       "  '1924',\n",
       "  '–',\n",
       "  '1991',\n",
       "  ')',\n",
       "  '1',\n",
       "  'қазанда',\n",
       "  'алматы',\n",
       "  'облысының',\n",
       "  'нары',\n",
       "  '##нқ',\n",
       "  '##ол',\n",
       "  'ауылын',\n",
       "  '##да',\n",
       "  'туған'],\n",
       " [4589,\n",
       "  2105,\n",
       "  3347,\n",
       "  3057,\n",
       "  10720,\n",
       "  11,\n",
       "  8816,\n",
       "  411,\n",
       "  3476,\n",
       "  12,\n",
       "  20,\n",
       "  3509,\n",
       "  8789,\n",
       "  44457,\n",
       "  25216,\n",
       "  4387,\n",
       "  877,\n",
       "  46938,\n",
       "  872,\n",
       "  2375])"
      ]
     },
     "execution_count": 18,
     "metadata": {},
     "output_type": "execute_result"
    }
   ],
   "source": [
    "tokens[:20], token_ids[:20]"
   ]
  },
  {
   "cell_type": "code",
   "execution_count": 8,
   "metadata": {},
   "outputs": [
    {
     "data": {
      "text/plain": [
       "tensor([    2,  4589,  2105,  3347,  3057, 10720,    11,  8816,   411,  3476,\n",
       "           12,    20,  3509,  8789, 44457, 25216,  4387,   877, 46938,   872])"
      ]
     },
     "execution_count": 8,
     "metadata": {},
     "output_type": "execute_result"
    }
   ],
   "source": [
    "encoded_data[:20]"
   ]
  }
 ],
 "metadata": {
  "kernelspec": {
   "display_name": ".venv",
   "language": "python",
   "name": "python3"
  },
  "language_info": {
   "codemirror_mode": {
    "name": "ipython",
    "version": 3
   },
   "file_extension": ".py",
   "mimetype": "text/x-python",
   "name": "python",
   "nbconvert_exporter": "python",
   "pygments_lexer": "ipython3",
   "version": "3.11.5"
  }
 },
 "nbformat": 4,
 "nbformat_minor": 2
}
